{
 "cells": [
  {
   "cell_type": "code",
   "execution_count": 220,
   "metadata": {},
   "outputs": [
    {
     "name": "stdout",
     "output_type": "stream",
     "text": [
      "The rpy2.ipython extension is already loaded. To reload it, use:\n",
      "  %reload_ext rpy2.ipython\n"
     ]
    }
   ],
   "source": [
    "import os\n",
    "import gzip\n",
    "import numpy as np\n",
    "import pandas as pd\n",
    "import scanpy.api as sc\n",
    "import matplotlib.pyplot as plt\n",
    "import seaborn as sns\n",
    "import statsmodels.api as sm\n",
    "import sklearn.preprocessing\n",
    "import scipy.sparse\n",
    "from anndata import AnnData"
   ]
  },
  {
   "cell_type": "markdown",
   "metadata": {},
   "source": [
    "# Analysis for a single sample"
   ]
  },
  {
   "cell_type": "code",
   "execution_count": null,
   "metadata": {},
   "outputs": [],
   "source": [
    "%%time\n",
    "\n",
    "wd = '/home/ndeforest/islet_snATAC/raw_data/biobank_2/'\n",
    "sp = scipy.sparse.load_npz(os.path.join(wd, 'A0016_T2D.int.csr.npz'))\n",
    "peaks = open(os.path.join(wd, 'A0016_T2D.peaks')).read().splitlines()\n",
    "barcodes = open(os.path.join(wd, 'A0016_T2D.barcodes')).read().splitlines()\n",
    "adata = AnnData(sp, {'obs_names':barcodes}, {'var_names':peaks})\n",
    "\n",
    "promoters = pd.read_table(os.path.join('/home/joshchiou/joshchiou-data2/islet_snATAC/fresh_only/', 'hg19.5kb.promoter.txt'), sep='\\t', header=None, index_col=0, names=['prom'])\n",
    "promoter_names = promoters['prom'].to_dict()\n",
    "adata.var.index = [promoter_names[b] if b in promoter_names else b for b in adata.var.index]\n",
    "adata.var_names_make_unique(join='.')\n",
    "\n",
    "adata.obs['n_counts'] = adata.X.sum(axis=1).A1\n",
    "adata.obs['log10_n_counts'] = np.log10(adata.obs['n_counts'])\n",
    "adata.raw = AnnData(adata.X > 0, {'obs_names':adata.obs.index}, {'var_names':adata.var.index})\n",
    "\n",
    "sc.pp.normalize_per_cell(adata, counts_per_cell_after=1e4)\n",
    "adata_filter = sc.pp.filter_genes_dispersion(adata.X, flavor='seurat', n_bins=50)\n",
    "hvgs = adata.var.loc[adata_filter.gene_subset].index.tolist()\n",
    "\n",
    "adata = adata[:,adata.var.index.isin(hvgs)]\n",
    "sc.pp.normalize_per_cell(adata, counts_per_cell_after=1e4)\n",
    "\n",
    "sc.pp.log1p(adata)\n",
    "sc.pp.regress_out(adata, ['log10_n_counts'])\n",
    "sc.pp.scale(adata)\n",
    "sc.tl.pca(adata, zero_center=False, random_state=0)\n",
    "sc.pp.neighbors(adata, n_neighbors=30, method='umap', metric='cosine', random_state=0, n_pcs=50)\n",
    "sc.tl.louvain(adata, resolution=1.5, random_state=0)\n",
    "sc.tl.umap(adata, min_dist=0.3, random_state=0)\n",
    "sc.pl.umap(adata, color=['louvain'], size=49, legend_loc='on data')\n",
    "sc.pl.umap(adata, color=['log10_n_counts'], size=49, color_map='Blues')\n",
    "\n",
    "sc.pl.umap(adata, color=['INS-IGF2','GCG','SST'], size=49, color_map='Blues', use_raw=True)\n",
    "sc.pl.umap(adata, color=['PPY','NKX2-3','REG1A'], size=49, color_map='Blues', use_raw=True)\n",
    "sc.pl.umap(adata, color=['CFTR','PTPN22','PDGFRB'], size=49, color_map='Blues', use_raw=True)\n",
    "sc.pl.umap(adata, color=['ARX','PDX1','HOXA5'], size=49, color_map='Blues', use_raw=True)"
   ]
  },
  {
   "cell_type": "markdown",
   "metadata": {},
   "source": [
    "# Analysis with MNN correction for multiple samples"
   ]
  },
  {
   "cell_type": "code",
   "execution_count": 2,
   "metadata": {},
   "outputs": [
    {
     "name": "stdout",
     "output_type": "stream",
     "text": [
      "CPU times: user 21.4 s, sys: 7.34 s, total: 28.8 s\n",
      "Wall time: 28.8 s\n"
     ]
    }
   ],
   "source": [
    "%%time\n",
    "\n",
    "# merged dataset from 3 islet samples\n",
    "wd = '/home/joshchiou/joshchiou-data2/islet_snATAC/fresh_only/'\n",
    "sp = scipy.sparse.load_npz(os.path.join(wd, 'Islet_1234.5kb.int.csr.npz'))\n",
    "peaks = pd.read_table(os.path.join(wd, 'Islet_1234.5kb.int.peaks'), header=None, names=['peaks'])\n",
    "barcodes = pd.read_table(os.path.join(wd, 'Islet_1234.5kb.int.barcodes'), header=None, names=['barcodes'])\n",
    "remove = pd.read_table(os.path.join(wd, 'Islet_123.remove'), header=None, names=['remove'])\n",
    "\n",
    "adata = AnnData(sp, {'obs_names':barcodes['barcodes']}, {'var_names':peaks['peaks']})\n",
    "adata.raw = AnnData(sp > 0, {'obs_names':barcodes['barcodes']}, {'var_names':adata.var.index})\n",
    "adata.obs['n_counts'] = adata.X.sum(axis=1).A1\n",
    "adata.obs['log10_n_counts'] = np.log10(adata.obs['n_counts'])\n",
    "\n",
    "adata.obs['Islet1'] = adata.obs.index.str.contains('Islet1').astype(int)\n",
    "adata.obs['Islet2'] = adata.obs.index.str.contains('Islet2').astype(int)\n",
    "adata.obs['Islet3'] = adata.obs.index.str.contains('Islet3').astype(int)\n",
    "adata.var['n_cells'] = adata.raw.X.sum(axis=0).A1\n",
    "\n",
    "sc.pp.normalize_per_cell(adata, counts_per_cell_after=1e4)\n",
    "adata_filter = sc.pp.filter_genes_dispersion(adata.X, flavor='seurat', n_bins=50)\n",
    "hvgs = adata.var.loc[adata_filter.gene_subset].index.tolist()\n",
    "adata.var['Islet1'] = (adata.raw.X > 0)[adata.obs.index.str.contains('Islet1'),:].sum(axis=0).A1\n",
    "adata.var['Islet2'] = (adata.raw.X > 0)[adata.obs.index.str.contains('Islet2'),:].sum(axis=0).A1\n",
    "adata.var['Islet3'] = (adata.raw.X > 0)[adata.obs.index.str.contains('Islet3'),:].sum(axis=0).A1\n",
    "hvgs = adata.var.loc[adata.var.index.isin(hvgs)]\n",
    "hvgs = hvgs.loc[(hvgs['Islet1'] > 0) & (hvgs['Islet2'] > 0) & (hvgs['Islet3'] > 0)].index\n",
    "adata.var = adata.var.drop(['Islet1','Islet2','Islet3'], axis=1)\n",
    "\n",
    "sp = sp_filt = None"
   ]
  },
  {
   "cell_type": "code",
   "execution_count": null,
   "metadata": {
    "scrolled": true
   },
   "outputs": [],
   "source": [
    "%%time\n",
    "\n",
    "# regress out read depth\n",
    "adatas = {}\n",
    "for sample in ['Islet1','Islet2','Islet3']:\n",
    "    adatas[sample] = adata[adata.obs.index.str.contains(sample), :]\n",
    "    adatas[sample] = adatas[sample][:, adatas[sample].var.index.isin(hvgs)]\n",
    "    sc.pp.normalize_per_cell(adatas[sample], counts_per_cell_after=1e4)\n",
    "    sc.pp.log1p(adatas[sample])\n",
    "    sc.pp.regress_out(adatas[sample], ['log10_n_counts'])\n",
    "\n",
    "# perform MNN correction\n",
    "adata_mnn = sc.pp.mnn_correct(adatas['Islet3'], adatas['Islet2'], adatas['Islet1'], k=10, batch_key='donor', index_unique=None)[0]\n",
    "adata_mnn.write(os.path.join(wd, 'Islet_123.MNN_corrected.h5ad'))"
   ]
  },
  {
   "cell_type": "code",
   "execution_count": null,
   "metadata": {
    "scrolled": true
   },
   "outputs": [],
   "source": [
    "sc.pp.scale(adata_mnn)\n",
    "sc.tl.pca(adata_mnn, zero_center=True, svd_solver='arpack', random_state=0)\n",
    "sc.pp.neighbors(adata_mnn, n_neighbors=30, method='umap', metric='cosine', random_state=0, n_pcs=50)\n",
    "sc.tl.louvain(adata_mnn, resolution=1.5, random_state=0)\n",
    "sc.tl.umap(adata_mnn, n_components=2, min_dist=0.3, random_state=0)\n",
    "sc.pl.umap(adata_mnn, color=['louvain'], size=16, legend_loc='on data')\n",
    "donor_map = {'0':'3', '1':'2', '2':'1'}\n",
    "adata_mnn.obs['donor'] = adata_mnn.obs['donor'].map(donor_map)\n",
    "# clusters projected onto UMAP\n",
    "sc.pl.umap(adata_mnn, color=['donor'], size=16, alpha=.5)\n",
    "# donor projected onto UMAP\n",
    "sc.pl.umap(adata_mnn, color=['log10_n_counts'], size=16, color_map='Blues')\n",
    "\n",
    "# read depth boxplot\n",
    "fig, ax1 = plt.subplots(1,1,figsize=(7,5))\n",
    "sns.boxplot(x='louvain', y='log10_n_counts', data=adata_mnn.obs)\n",
    "plt.show()\n",
    "\n",
    "# correlation with PCs\n",
    "pc = pd.DataFrame(adata_mnn.obsm['X_pca'], index=adata_mnn.obs.index, columns=['PC{}'.format(i) for i in range(1,51)])\n",
    "pc = pc.join(adata_mnn.obs[['log10_n_counts', 'log10_n_peaks', 'Islet1', 'Islet2', 'Islet3']], how='inner')\n",
    "fig, ax1 = plt.subplots(1,1,figsize=(10,10))\n",
    "sns.heatmap(pc.corr(), ax=ax1)\n",
    "plt.show()\n",
    "\n",
    "# marker genes projected onto UMAP\n",
    "sc.pl.umap(adata_mnn, color=['INS-IGF2','GCG','SST'], size=16, color_map='Blues', use_raw=True)\n",
    "sc.pl.umap(adata_mnn, color=['PPY','NKX2-3','REG1A'], size=16, color_map='Blues', use_raw=True)\n",
    "sc.pl.umap(adata_mnn, color=['CFTR','PTPN22','PDGFRB'], size=16, color_map='Blues', use_raw=True)"
   ]
  }
 ],
 "metadata": {
  "kernelspec": {
   "display_name": "Python 3",
   "language": "python",
   "name": "python3"
  },
  "language_info": {
   "codemirror_mode": {
    "name": "ipython",
    "version": 3
   },
   "file_extension": ".py",
   "mimetype": "text/x-python",
   "name": "python",
   "nbconvert_exporter": "python",
   "pygments_lexer": "ipython3",
   "version": "3.6.6"
  }
 },
 "nbformat": 4,
 "nbformat_minor": 2
}
