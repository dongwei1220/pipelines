{
 "cells": [
  {
   "cell_type": "code",
   "execution_count": null,
   "metadata": {
    "scrolled": true
   },
   "outputs": [],
   "source": [
    "import os\n",
    "import numpy as np\n",
    "import pandas as pd\n",
    "import scipy.io\n",
    "\n",
    "# plotting\n",
    "import matplotlib.pyplot as plt\n",
    "import seaborn as sns\n",
    "\n",
    "# single cell\n",
    "import scanpy.api as sc\n",
    "from anndata import AnnData\n",
    "\n",
    "# etc\n",
    "%load_ext rpy2.ipython"
   ]
  },
  {
   "cell_type": "markdown",
   "metadata": {},
   "source": [
    "### Regress out read depth per experiment"
   ]
  },
  {
   "cell_type": "code",
   "execution_count": null,
   "metadata": {},
   "outputs": [],
   "source": [
    "wd = 'islet_snATAC/'\n",
    "\n",
    "adatas = {}\n",
    "samples = ['Islet1','Islet2','Islet3']\n",
    "\n",
    "# dictionary naming 5kb windows genome-wide based on overlap with gencode v19 gene TSS\n",
    "promoters = pd.read_csv('references/gencode.v19.5kb_windows.promoter_names.txt.gz', sep='\\t', header=None, index_col=0, names=['prom'])\n",
    "promoter_names = promoters['prom'].to_dict() \n",
    "\n",
    "# cells from low quality and doublet clusters were identified through iterative clustering\n",
    "low_quality = open(os.path.join(wd, 'islet_snATAC.lowqual')).read().splitlines()\n",
    "doublets = open(os.path.join(wd, 'islet_snATAC.doublets')).read().splitlines()\n",
    "\n",
    "qc_metrics = pd.read_csv(os.path.join(wd, 'references/islet.qc_metrics.txt'), sep='\\t', header=0, index_col=0)\n",
    "hvw = open(os.path.join(wd,'references/islet_snATAC.hvw')).read().splitlines()\n",
    "\n",
    "for sample in samples:\n",
    "    sp = scipy.io.mmread(os.path.join(wd, sample, '{}.mtx.gz'.format(sample))).tocsr()\n",
    "    regions = open(os.path.join(wd, sample, '{}.regions'.format(sample))).read().splitlines()\n",
    "    barcodes = open(os.path.join(wd, sample, '{}.barcodes'.format(sample))).read().splitlines()\n",
    "    adatas[sample] = AnnData(sp, {'obs_names':barcodes}, {'var_names':regions})\n",
    "    adatas[sample].var.index = [promoter_names[b] if b in promoter_names else b for b in adatas[sample].var.index]\n",
    "    adatas[sample].var_names_make_unique(join='.')\n",
    "    \n",
    "    adatas[sample] = adatas[sample][~adatas[sample].obs.index.isin(low_quality + doublets),:].copy()\n",
    "    adatas[sample].obs = adatas[sample].obs.join(qc_metrics, how='inner')\n",
    "    adatas[sample].obs['experiment'] = [i.split('_')[0] for i in adatas[sample].obs.index]\n",
    "    raw = adatas[sample].copy()\n",
    "    \n",
    "    sc.pp.normalize_per_cell(adatas[sample], counts_per_cell_after=1e4)\n",
    "    adatas[sample] = adatas[sample][:, adatas[sample].var.index.isin(hvgs)]\n",
    "    sc.pp.log1p(adatas[sample])\n",
    "    adatas[sample].obs['log_usable_counts'] = np.log(raw[:, raw.var.index.isin(hvgs)].X.sum(axis=1).A1)\n",
    "    sc.pp.regress_out(adatas[sample], ['log_usable_counts'])\n",
    "    adatas[sample].write(os.path.join(wd, '{}.norm.h5ad'.format(sample)))\n",
    "    \n",
    "    sc.pp.normalize_per_cell(raw, counts_per_cell_after=1e4)\n",
    "    sc.pp.log1p(raw)\n",
    "    raw.write(os.path.join(wd, '{}.raw.h5ad'.format(sample)))\n"
   ]
  },
  {
   "cell_type": "markdown",
   "metadata": {},
   "source": [
    "### Merge files from all samples"
   ]
  },
  {
   "cell_type": "code",
   "execution_count": null,
   "metadata": {},
   "outputs": [],
   "source": [
    "adatas = {}\n",
    "adatas_raw = {}\n",
    "samples = ['Islet1','Islet2','Islet3']\n",
    "\n",
    "for sample in samples:\n",
    "    adatas[sample] = sc.read_h5ad(os.path.join(wd, '{}.norm.h5ad'.format(sample)))\n",
    "    adatas_raw[sample] = sc.read_h5ad(os.path.join(wd, '{}.raw.h5ad'.format(sample)))\n",
    "    \n",
    "adata_norm = AnnData.concatenate(adatas['Islet1'], adatas['Islet2'], adatas['Islet3'], \n",
    "                                 batch_key='norm', index_unique=None)\n",
    "adata_norm_raw = AnnData.concatenate(adatas_raw['Islet1'], adatas_raw['Islet2'], adatas_raw['Islet3'],\n",
    "                                     batch_key='norm', index_unique=None)\n",
    "adata_norm.raw = adata_norm_raw.copy()\n",
    "\n",
    "sc.pp.scale(adata_norm)\n",
    "sc.tl.pca(adata_norm, zero_center=True, svd_solver='arpack', random_state=0)\n",
    "pc = pd.DataFrame(adata_norm.obsm['X_pca'], columns=['PC{}'.format(i) for i in range(1,51)], index=adata_norm.obs.index)\n",
    "metadata = pd.DataFrame(index=adata_norm.obs.index)\n",
    "metadata['donor'] = [i.split('_')[0] for i in metadata.index]"
   ]
  },
  {
   "cell_type": "markdown",
   "metadata": {},
   "source": [
    "### Run Harmony (rpy2) to correct for batch effects"
   ]
  },
  {
   "cell_type": "code",
   "execution_count": null,
   "metadata": {},
   "outputs": [],
   "source": [
    "%%R -i pc -i metadata -o harmonized\n",
    "library(harmony)\n",
    "library(magrittr)\n",
    "\n",
    "# run Harmony on the PCs\n",
    "harmonized <- HarmonyMatrix(pc, metadata, c('donor'), do_pca=FALSE)\n",
    "harmonized <- data.frame(harmonized)"
   ]
  },
  {
   "cell_type": "markdown",
   "metadata": {},
   "source": [
    "### Plot cluster based on corrected components"
   ]
  },
  {
   "cell_type": "code",
   "execution_count": null,
   "metadata": {},
   "outputs": [],
   "source": [
    "adata_norm.obsm['X_pca'] = harmonized.values\n",
    "sc.pp.neighbors(adata_norm, n_neighbors=30, method='umap', metric='cosine', random_state=0, n_pcs=50)\n",
    "sc.tl.leiden(adata_norm, resolution=1.5, random_state=0)\n",
    "sc.tl.umap(adata_norm, min_dist=0.3, random_state=0)\n",
    "\n",
    "sc.settings.set_figure_params(dpi=100)\n",
    "sc.pl.umap(adata_norm, color=['leiden'], size=9, legend_loc='on data')\n",
    "sc.pl.umap(adata_norm, color=['experiment'], size=1, alpha=.5)\n",
    "\n",
    "# plot quality metrics\n",
    "sc.pl.umap(adata_norm, color=['log_usable_counts'], size=9, color_map='Blues')\n",
    "sc.pl.umap(adata_norm, color=['frac_reads_in_peaks','frac_reads_in_promoters','frac_promoters_used'], cmap='Reds', size=9, legend_loc='on data', title=['Frac. reads in peaks', 'Frac. reads in promoters', 'Frac. promoters used'])\n",
    "\n",
    "# 5kb windows overlapping marker promoters    \n",
    "sc.pl.umap(adata_norm, color=['GCG','INS-IGF2','SST'], size=9, color_map='Blues', frameon=True, use_raw=True)\n",
    "sc.pl.umap(adata_norm, color=['PPY','CFTR','REG1A'], size=9, color_map='Blues', frameon=True, use_raw=True)\n",
    "sc.pl.umap(adata_norm, color=['CD93','PDGFRB','NCF2'], size=9, color_map='Blues', frameon=True, use_raw=True)"
   ]
  },
  {
   "cell_type": "markdown",
   "metadata": {},
   "source": [
    "### Subclustering at high resolution to identify potential doublet subclusters"
   ]
  },
  {
   "cell_type": "code",
   "execution_count": null,
   "metadata": {},
   "outputs": [],
   "source": [
    "subset_cluster = ['0']\n",
    "sc.tl.louvain(adata_norm, restrict_to=('leiden',subset_cluster), resolution=3, random_state=0, key_added='subset')\n",
    "sc.pl.umap(adata_norm, color=['subset'], size=9)\n",
    "\n",
    "fig, ax1 = plt.subplots(1,1,figsize=(5,5))\n",
    "subset = adata_norm.obs.join(pd.DataFrame(adata_norm.obsm['X_umap'], index=adata_norm.obs.index, columns=['UMAP1','UMAP2']), how='inner')\n",
    "subset = subset.loc[subset['leiden'].isin(subset_cluster)]\n",
    "for s in sorted(set(subset['subset'])):\n",
    "    ax1.scatter(subset.loc[subset['subset']==s, 'UMAP1'], subset.loc[subset['subset']==s, 'UMAP2'], alpha=1, s=4, label=s)\n",
    "ax1.legend(markerscale=3)\n",
    "plt.show()\n",
    "\n",
    "# plot qc metrics including subclusters\n",
    "for qc_metric in ['log10_usable_counts', 'frac_reads_in_peaks', 'frac_promoters_used']:\n",
    "    fig, ax1 = plt.subplots(1,1,figsize=(7,5))\n",
    "    sns.boxplot(x='subset', y=qc_metric, data=adata_norm.obs, ax=ax1)\n",
    "    ax1.axhline(adata_norm.obs[qc_metric].median(), color='black', ls='dotted')\n",
    "    ax1.set_xticklabels(ax1.get_xticklabels(), rotation=90)\n",
    "    plt.show()\n",
    "\n",
    "# check marker promoters for potential doublet subclusters\n",
    "sc.pl.dotplot(adata_norm, ['GCG','INS-IGF2','SST','PPY','CFTR','REG1A','CD93','PDGFRB','NCF2'],\n",
    "              standard_scale='var', groupby='subset', dendrogram=False, use_raw=True)\n",
    "    \n",
    "adata_norm.obs.loc[adata_norm.obs['subset'].isin(['0,28'])].to_csv(os.path.join(wd, '{}.doublets'.format(sample_name)), header=False, columns=[])"
   ]
  }
 ],
 "metadata": {
  "kernelspec": {
   "display_name": "Python 3",
   "language": "python",
   "name": "python3"
  },
  "language_info": {
   "codemirror_mode": {
    "name": "ipython",
    "version": 3
   },
   "file_extension": ".py",
   "mimetype": "text/x-python",
   "name": "python",
   "nbconvert_exporter": "python",
   "pygments_lexer": "ipython3",
   "version": "3.7.6"
  }
 },
 "nbformat": 4,
 "nbformat_minor": 2
}
