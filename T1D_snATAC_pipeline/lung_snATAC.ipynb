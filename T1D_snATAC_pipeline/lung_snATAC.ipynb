{
 "cells": [
  {
   "cell_type": "code",
   "execution_count": null,
   "metadata": {
    "scrolled": true
   },
   "outputs": [],
   "source": [
    "import os\n",
    "import numpy as np\n",
    "import pandas as pd\n",
    "import scipy.io\n",
    "\n",
    "# plotting\n",
    "import matplotlib.pyplot as plt\n",
    "import seaborn as sns\n",
    "\n",
    "# single cell\n",
    "import scanpy.api as sc\n",
    "from anndata import AnnData\n",
    "\n",
    "# etc\n",
    "%load_ext rpy2.ipython"
   ]
  },
  {
   "cell_type": "markdown",
   "metadata": {},
   "source": [
    "### Regress out read depth per experiment"
   ]
  },
  {
   "cell_type": "code",
   "execution_count": null,
   "metadata": {},
   "outputs": [],
   "source": [
    "wd = 'lung_snATAC/'\n",
    "\n",
    "adatas = {}\n",
    "samples = ['D062','D088','D110','D150','D032','D032-2','D046','D139','D122','D175','D231']\n",
    "\n",
    "# dictionary naming 5kb windows genome-wide based on overlap with gencode v19 gene TSS\n",
    "promoters = pd.read_csv(os.path.join('references', 'gencode.v19.5kb_windows.promoter_names.txt.gz'), sep='\\t', header=None, index_col=0, names=['prom'])\n",
    "promoter_names = promoters['prom'].to_dict() \n",
    "\n",
    "# cells from low quality and doublet clusters were identified through iterative clustering\n",
    "low_frip = open(os.path.join(wd, 'lung_snATAC.merged_samples.lowfrip')).read().splitlines()\n",
    "low_reads = open(os.path.join(wd, 'lung_snATAC.merged_samples.lowreads')).read().splitlines()\n",
    "doublets = open(os.path.join(wd, 'lung_snATAC.merged_samples.doublets')).read().splitlines()\n",
    "\n",
    "qc_metrics = pd.read_csv(os.path.join(wd, 'lung_snATAC.merged_samples.qc_metrics.txt'), sep='\\t', header=0, index_col=0)\n",
    "hvw = open(os.path.join(wd,'lung_snATAC.merged_samples.hvw')).read().splitlines()\n",
    "\n",
    "for sample in samples:\n",
    "    sp = scipy.io.mmread(os.path.join(wd, sample, '{}.mtx.gz'.format(sample))).tocsr()\n",
    "    regions = open(os.path.join(wd, sample, '{}.regions'.format(sample))).read().splitlines()\n",
    "    barcodes = open(os.path.join(wd, sample, '{}.barcodes'.format(sample))).read().splitlines()\n",
    "    adatas[sample] = AnnData(sp, {'obs_names':barcodes}, {'var_names':regions})\n",
    "    adatas[sample].var.index = [promoter_names[b] if b in promoter_names else b for b in adatas[sample].var.index]\n",
    "    adatas[sample].var_names_make_unique(join='.')\n",
    "    \n",
    "    adatas[sample] = adatas[sample][~adatas[sample].obs.index.isin(low_frip + low_reads + doublets),:].copy()\n",
    "    adatas[sample].obs = adatas[sample].obs.join(qc_metrics, how='inner')\n",
    "    adatas[sample].obs['experiment'] = [i.split('_')[0] for i in adatas[sample].obs.index]\n",
    "    raw = adatas[sample].copy()\n",
    "    \n",
    "    sc.pp.normalize_per_cell(adatas[sample], counts_per_cell_after=1e4)\n",
    "    adatas[sample] = adatas[sample][:, adatas[sample].var.index.isin(hvgs)]\n",
    "    sc.pp.log1p(adatas[sample])\n",
    "    adatas[sample].obs['log_usable_counts'] = np.log(raw[:, raw.var.index.isin(hvgs)].X.sum(axis=1).A1)\n",
    "    sc.pp.regress_out(adatas[sample], ['log_usable_counts'])\n",
    "    adatas[sample].write(os.path.join(wd, '{}.norm.h5ad'.format(sample)))\n",
    "    \n",
    "    sc.pp.normalize_per_cell(raw, counts_per_cell_after=1e4)\n",
    "    sc.pp.log1p(raw)\n",
    "    raw.write(os.path.join(wd, '{}.raw.h5ad'.format(sample)))\n"
   ]
  },
  {
   "cell_type": "markdown",
   "metadata": {},
   "source": [
    "### Merge files from all samples"
   ]
  },
  {
   "cell_type": "code",
   "execution_count": null,
   "metadata": {},
   "outputs": [],
   "source": [
    "adatas = {}\n",
    "adatas_raw = {}\n",
    "samples = ['D062','D088','D150','D110', 'D032','D032-2','D046','D139','D122','D175','D231']\n",
    "\n",
    "for sample in samples:\n",
    "    adatas[sample] = sc.read_h5ad(os.path.join(wd, '{}.norm.h5ad'.format(sample)))\n",
    "    adatas_raw[sample] = sc.read_h5ad(os.path.join(wd, '{}.raw.h5ad'.format(sample)))\n",
    "    \n",
    "adata_norm = AnnData.concatenate(adatas['D062'], adatas['D088'], adatas['D110'], adatas['D150'],\n",
    "                                 adatas['D032'], adatas['D032-2'], adatas['D046'], adatas['D139'],\n",
    "                                 adatas['D122'], adatas['D175'], adatas['D231'],\n",
    "                                 batch_key='norm', index_unique=None)\n",
    "adata_norm_raw = AnnData.concatenate(adatas_raw['D062'], adatas_raw['D088'], adatas_raw['D110'], adatas_raw['D150'],\n",
    "                                     adatas_raw['D032'], adatas_raw['D032-2'], adatas_raw['D046'], adatas_raw['D139'],\n",
    "                                     adatas_raw['D122'], adatas_raw['D175'], adatas_raw['D231'],\n",
    "                                     batch_key='norm', index_unique=None)\n",
    "adata_norm.raw = adata_norm_raw.copy()\n",
    "\n",
    "sc.pp.scale(adata_norm)\n",
    "sc.tl.pca(adata_norm, zero_center=True, svd_solver='arpack', random_state=0)\n",
    "pc = pd.DataFrame(adata_norm.obsm['X_pca'], columns=['PC{}'.format(i) for i in range(1,51)], index=adata_norm.obs.index)\n",
    "metadata = pd.read_csv(os.path.join(wd, 'lung_snATAC.merged_samples.metadata.txt'), sep='\\t', header=0, index_col=0)\n",
    "metadata = metadata.loc[pc.index]"
   ]
  },
  {
   "cell_type": "markdown",
   "metadata": {},
   "source": [
    "### Run Harmony (rpy2) to correct for batch effects"
   ]
  },
  {
   "cell_type": "code",
   "execution_count": null,
   "metadata": {},
   "outputs": [],
   "source": [
    "%%R -i pc -i metadata -o harmonized\n",
    "library(harmony)\n",
    "library(magrittr)\n",
    "\n",
    "# run Harmony on the PCs\n",
    "harmonized <- HarmonyMatrix(pc, metadata, c('experiment','sex'), do_pca=FALSE)\n",
    "harmonized <- data.frame(harmonized)"
   ]
  },
  {
   "cell_type": "markdown",
   "metadata": {},
   "source": [
    "### Plot cluster based on corrected components"
   ]
  },
  {
   "cell_type": "code",
   "execution_count": null,
   "metadata": {
    "scrolled": false
   },
   "outputs": [],
   "source": [
    "adata_norm.obsm['X_pca'] = harmonized.values\n",
    "sc.pp.neighbors(adata_norm, n_neighbors=30, method='umap', metric='cosine', random_state=0, n_pcs=50)\n",
    "sc.tl.leiden(adata_norm, resolution=1.5, random_state=0)\n",
    "sc.tl.umap(adata_norm, min_dist=0.3, random_state=0)\n",
    "\n",
    "sc.settings.set_figure_params(dpi=100)\n",
    "sc.pl.umap(adata_norm, color=['leiden'], size=1, alpha=.5)\n",
    "sc.pl.umap(adata_norm, color=['experiment'], size=1, alpha=.5)\n",
    "\n",
    "# plot quality metrics\n",
    "sc.pl.umap(adata_norm, color=['log_usable_counts'], size=1, color_map='Blues')\n",
    "sc.pl.umap(adata_norm, color=['frac_reads_in_peaks','frac_reads_in_promoters','frac_promoters_used'], cmap='Reds', size=1, legend_loc='on data')\n",
    "\n",
    "# 5kb windows overlapping marker promoters    \n",
    "sc.pl.umap(adata_norm, color=['SLC11A1','CD247','MS4A1'], size=9, color_map='Blues', frameon=True, use_raw=True)\n",
    "sc.pl.umap(adata_norm, color=['SFTPC','EDN3','MCIDAS'], size=9, color_map='Blues', frameon=True, use_raw=True)\n",
    "sc.pl.umap(adata_norm, color=['VWF','GBP4','PROX1'], size=9, color_map='Blues', frameon=True, use_raw=True)\n",
    "sc.pl.umap(adata_norm, color=['WNT2','MYOCD','GJC1'], size=9, color_map='Blues', frameon=True, use_raw=True)\n"
   ]
  },
  {
   "cell_type": "code",
   "execution_count": null,
   "metadata": {
    "scrolled": false
   },
   "outputs": [],
   "source": [
    "# More 5kb windows overlapping marker promoters    \n",
    "sc.pl.umap(adata_norm, color=['C1QA','C1QB','C1QC'], size=4, color_map='Blues', frameon=True, use_raw=True)\n",
    "sc.pl.umap(adata_norm, color=['CD3E','CD8A','BCL11B'], size=4, color_map='Blues', frameon=True, use_raw=True)\n",
    "sc.pl.umap(adata_norm, color=['NCR1','SH2D1B','IFNG'], size=4, color_map='Blues', frameon=True, use_raw=True)\n",
    "sc.pl.umap(adata_norm, color=['CD79A','CD19','MS4A1'], size=4, color_map='Blues', frameon=True, use_raw=True)\n",
    "sc.pl.umap(adata_norm, color=['SERTM1','EDN3','CTNND2'], size=4, color_map='Blues', frameon=True, use_raw=True)\n",
    "sc.pl.umap(adata_norm, color=['SFTPB','SFTPA1','ACOXL'], size=4, color_map='Blues', frameon=True, use_raw=True)\n",
    "sc.pl.umap(adata_norm, color=['SOX2','TEKT4','MCIDAS'], size=4, color_map='Blues', frameon=True, use_raw=True)\n",
    "sc.pl.umap(adata_norm, color=['CLEC14A','EGFL7','CDH5'], size=4, color_map='Blues', frameon=True, use_raw=True)\n",
    "sc.pl.umap(adata_norm, color=['VWF','PTPRB','CD93'], size=4, color_map='Blues', frameon=True, use_raw=True)\n",
    "sc.pl.umap(adata_norm, color=['ART1','APOB','EML1'], size=4, color_map='Blues', frameon=True, use_raw=True)\n",
    "sc.pl.umap(adata_norm, color=['PROX1','PDE1A','HOXD8'], size=4, color_map='Blues', frameon=True, use_raw=True)\n",
    "sc.pl.umap(adata_norm, color=['WNT2','MEOX2','SCN7A'], size=4, color_map='Blues', frameon=True, use_raw=True)\n",
    "sc.pl.umap(adata_norm, color=['DNAI2','GJC1','FOXS1'], size=4, color_map='Blues', frameon=True, use_raw=True)\n",
    "sc.pl.umap(adata_norm, color=['DES','MYOCD','PRELP'], size=4, color_map='Blues', frameon=True, use_raw=True)\n",
    "sc.pl.umap(adata_norm, color=['CD34','MFAP5','FBLN2'], size=4, color_map='Blues', frameon=True, use_raw=True)\n"
   ]
  },
  {
   "cell_type": "markdown",
   "metadata": {},
   "source": [
    "### Subclustering at high resolution to identify potential doublet subclusters"
   ]
  },
  {
   "cell_type": "code",
   "execution_count": null,
   "metadata": {},
   "outputs": [],
   "source": [
    "subset_cluster = ['0']\n",
    "sc.tl.louvain(adata_norm, restrict_to=('leiden',subset_cluster), resolution=3, random_state=0, key_added='subset')\n",
    "sc.pl.umap(adata_norm, color=['subset'], size=9)\n",
    "\n",
    "fig, ax1 = plt.subplots(1,1,figsize=(5,5))\n",
    "subset = adata_norm.obs.join(pd.DataFrame(adata_norm.obsm['X_umap'], index=adata_norm.obs.index, columns=['UMAP1','UMAP2']), how='inner')\n",
    "subset = subset.loc[subset['leiden'].isin(subset_cluster)]\n",
    "for s in sorted(set(subset['subset'])):\n",
    "    ax1.scatter(subset.loc[subset['subset']==s, 'UMAP1'], subset.loc[subset['subset']==s, 'UMAP2'], alpha=1, s=4, label=s)\n",
    "ax1.legend(markerscale=3)\n",
    "plt.show()\n",
    "\n",
    "# plot qc metrics including subclusters\n",
    "for qc_metric in ['log10_usable_counts', 'frac_reads_in_peaks', 'frac_promoters_used']:\n",
    "    fig, ax1 = plt.subplots(1,1,figsize=(7,5))\n",
    "    sns.boxplot(x='subset', y=qc_metric, data=adata_norm.obs, ax=ax1)\n",
    "    ax1.axhline(adata_norm.obs[qc_metric].median(), color='black', ls='dotted')\n",
    "    ax1.set_xticklabels(ax1.get_xticklabels(), rotation=90)\n",
    "    plt.show()\n",
    "\n",
    "# check marker promoters for potential doublet subclusters\n",
    "sc.pl.dotplot(adata_norm, ['SLC11A1','CD247','MS4A1','SFTPC','EDN3','MCIDAS','VWF','GBP4','PROX1','WNT2','MYOCD','GJC1'],\n",
    "              standard_scale='var', groupby='subset', dendrogram=False, use_raw=True)\n",
    "    \n",
    "adata_norm.obs.loc[adata_norm.obs['subset'].isin(['0,28'])].to_csv(os.path.join(wd, '{}.alveolar_type_2.doublets'.format(sample_name)), header=False, columns=[])"
   ]
  }
 ],
 "metadata": {
  "kernelspec": {
   "display_name": "Python 3",
   "language": "python",
   "name": "python3"
  },
  "language_info": {
   "codemirror_mode": {
    "name": "ipython",
    "version": 3
   },
   "file_extension": ".py",
   "mimetype": "text/x-python",
   "name": "python",
   "nbconvert_exporter": "python",
   "pygments_lexer": "ipython3",
   "version": "3.7.6"
  }
 },
 "nbformat": 4,
 "nbformat_minor": 2
}
