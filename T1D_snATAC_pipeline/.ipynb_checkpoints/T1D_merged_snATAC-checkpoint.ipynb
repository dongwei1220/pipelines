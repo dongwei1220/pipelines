{
 "cells": [
  {
   "cell_type": "code",
   "execution_count": null,
   "metadata": {
    "scrolled": true
   },
   "outputs": [],
   "source": [
    "import os\n",
    "import numpy as np\n",
    "import pandas as pd\n",
    "import scipy.io\n",
    "\n",
    "# plotting\n",
    "import matplotlib.pyplot as plt\n",
    "import seaborn as sns\n",
    "\n",
    "# single cell\n",
    "import scanpy.api as sc\n",
    "from anndata import AnnData\n",
    "\n",
    "# etc\n",
    "%load_ext rpy2.ipython"
   ]
  },
  {
   "cell_type": "markdown",
   "metadata": {},
   "source": [
    "### Regress out read depth per experiment"
   ]
  },
  {
   "cell_type": "code",
   "execution_count": null,
   "metadata": {},
   "outputs": [],
   "source": [
    "wd = 'T1D_snATAC/'\n",
    "\n",
    "adatas = {}\n",
    "samples = ['nPOD-6282','nPOD-6251-1','nPOD-6251-2','nPOD-6004-1','nPOD-6004-2','nPOD-6007',\n",
    "           'IIDP-AFC2208-1','IIDP-AFC2208-2','IIDP-AFEA331','IIDP-AFEP022','IIDP-AEHU156',\n",
    "           'HemaCare-D205220','HemaCare-D105','HemaCare-D147558','HemaCare-D270271','HemaCare-D182364','HemaCare-D273097',\n",
    "           '10x-5k-1','10x-5k-2','10x-5k-3','10x-10k-1','10x-10k-2','10x-10k-3']\n",
    "\n",
    "# dictionary naming 5kb windows genome-wide based on overlap with gencode v19 gene TSS\n",
    "promoters = pd.read_csv(os.path.join('references', 'gencode.v19.5kb_windows.promoter_names.txt.gz'), sep='\\t', header=None, index_col=0, names=['prom'])\n",
    "promoter_names = promoters['prom'].to_dict() \n",
    "\n",
    "# cells from low quality and doublet clusters were identified through iterative clustering\n",
    "low_frip = open(os.path.join(wd, 'T1D_snATAC.lowfrip')).read().splitlines()\n",
    "low_reads = open(os.path.join(wd, 'T1D_snATAC.lowreads')).read().splitlines()\n",
    "doublets = open(os.path.join(wd, 'T1D_snATAC.doublets')).read().splitlines()\n",
    "\n",
    "qc_metrics = pd.read_csv(os.path.join(wd, 'T1D_snATAC.qc_metrics.txt'), sep='\\t', header=0, index_col=0)\n",
    "hvw = open(os.path.join(wd,'T1D_snATAC.hvw')).read().splitlines()\n",
    "\n",
    "for sample in samples:\n",
    "    sp = scipy.io.mmread(os.path.join(wd, sample, '{}.mtx.gz'.format(sample))).tocsr()\n",
    "    regions = open(os.path.join(wd, sample, '{}.regions'.format(sample))).read().splitlines()\n",
    "    barcodes = open(os.path.join(wd, sample, '{}.barcodes'.format(sample))).read().splitlines()\n",
    "    adatas[sample] = AnnData(sp, {'obs_names':barcodes}, {'var_names':regions})\n",
    "    adatas[sample].var.index = [promoter_names[b] if b in promoter_names else b for b in adatas[sample].var.index]\n",
    "    adatas[sample].var_names_make_unique(join='.')\n",
    "    \n",
    "    adatas[sample] = adatas[sample][~adatas[sample].obs.index.isin(low_frip + low_reads + doublets),:].copy()\n",
    "    adatas[sample].obs = adatas[sample].obs.join(qc_metrics, how='inner')\n",
    "    adatas[sample].obs['experiment'] = [i.split('_')[0] for i in adatas[sample].obs.index]\n",
    "    raw = adatas[sample].copy()\n",
    "    \n",
    "    sc.pp.normalize_per_cell(adatas[sample], counts_per_cell_after=1e4)\n",
    "    adatas[sample] = adatas[sample][:, adatas[sample].var.index.isin(hvgs)]\n",
    "    sc.pp.log1p(adatas[sample])\n",
    "    adatas[sample].obs['log_usable_counts'] = np.log(raw[:, raw.var.index.isin(hvgs)].X.sum(axis=1).A1)\n",
    "    sc.pp.regress_out(adatas[sample], ['log_usable_counts'])\n",
    "    adatas[sample].write(os.path.join(wd, '{}.norm.h5ad'.format(sample)))\n",
    "    \n",
    "    sc.pp.normalize_per_cell(raw, counts_per_cell_after=1e4)\n",
    "    sc.pp.log1p(raw)\n",
    "    raw.write(os.path.join(wd, '{}.raw.h5ad'.format(sample)))\n"
   ]
  },
  {
   "cell_type": "markdown",
   "metadata": {},
   "source": [
    "### Merge files from all samples"
   ]
  },
  {
   "cell_type": "code",
   "execution_count": null,
   "metadata": {},
   "outputs": [],
   "source": [
    "adatas = {}\n",
    "adatas_raw = {}\n",
    "samples = ['nPOD-6282','nPOD-6251-1','nPOD-6251-2','nPOD-6004-1','nPOD-6004-2','nPOD-6007',\n",
    "           'IIDP-AFC2208-1','IIDP-AFC2208-2','IIDP-AFEA331','IIDP-AFEP022','IIDP-AEHU156',\n",
    "           'HemaCare-D205220','HemaCare-D105','HemaCare-D147558','HemaCare-D270271','HemaCare-D182364','HemaCare-D273097',\n",
    "           '10x-5k-1','10x-5k-2','10x-5k-3','10x-10k-1','10x-10k-2','10x-10k-3']\n",
    "for sample in samples:\n",
    "    adatas[sample] = sc.read_h5ad(os.path.join(wd, '{}.norm.h5ad'.format(sample)))\n",
    "    adatas_raw[sample] = sc.read_h5ad(os.path.join(wd, '{}.raw.h5ad'.format(sample)))\n",
    "    \n",
    "adata_norm = AnnData.concatenate(adatas['nPOD-6282'], adatas['nPOD-6251-1'], adatas['nPOD-6251-2'], adatas['nPOD-6004-1'], adatas['nPOD-6004-2'], adatas['nPOD-6007'], \n",
    "                                 adatas['IIDP-AFC2208-1'], adatas['IIDP-AFC2208-2'], adatas['IIDP-AFEA331'], adatas['IIDP-AFEP022'], adatas['IIDP-AEHU156'],\n",
    "                                 adatas['HemaCare-D205220'], adatas['HemaCare-D105'], adatas['HemaCare-D147558'], adatas['HemaCare-D270271'], adatas['HemaCare-D182364'], adatas['HemaCare-D273097'],\n",
    "                                 adatas['10x-5k-1'], adatas['10x-5k-2'], adatas['10x-5k-3'], adatas['10x-10k-1'], adatas['10x-10k-2'], adatas['10x-10k-3'],\n",
    "                                 batch_key='norm', index_unique=None)\n",
    "adata_norm_raw = AnnData.concatenate(adatas_raw['nPOD-6282'], adatas_raw['nPOD-6251-1'], adatas_raw['nPOD-6251-2'], adatas_raw['nPOD-6004-1'], adatas_raw['nPOD-6004-2'], adatas_raw['nPOD-6007'],\n",
    "                                     adatas_raw['IIDP-AFC2208-1'], adatas_raw['IIDP-AFC2208-2'], adatas_raw['IIDP-AFEA331'], adatas_raw['IIDP-AFEP022'], adatas_raw['IIDP-AEHU156'],\n",
    "                                     adatas_raw['HemaCare-D205220'], adatas_raw['HemaCare-D105'], adatas_raw['HemaCare-D147558'], adatas_raw['HemaCare-D270271'], adatas_raw['HemaCare-D182364'], adatas_raw['HemaCare-D273097'],\n",
    "                                     adatas_raw['10x-5k-1'], adatas_raw['10x-5k-2'], adatas_raw['10x-5k-3'], adatas_raw['10x-10k-1'], adatas_raw['10x-10k-2'], adatas_raw['10x-10k-3'],\n",
    "                                     batch_key='norm', index_unique=None)\n",
    "adata_norm.raw = adata_norm_raw.copy()\n",
    "\n",
    "sc.pp.scale(adata_norm)\n",
    "sc.tl.pca(adata_norm, zero_center=True, svd_solver='arpack', random_state=0)\n",
    "pc = pd.DataFrame(adata_norm.obsm['X_pca'], columns=['PC{}'.format(i) for i in range(1,51)], index=adata_norm.obs.index)\n",
    "metadata = pd.read_csv(os.path.join(wd, 'T1D_snATAC.metadata.txt'), sep='\\t', header=0, index_col=0)\n",
    "metadata = metadata.loc[pc.index]"
   ]
  },
  {
   "cell_type": "markdown",
   "metadata": {},
   "source": [
    "### Run Harmony (rpy2) to correct for batch effects"
   ]
  },
  {
   "cell_type": "code",
   "execution_count": null,
   "metadata": {},
   "outputs": [],
   "source": [
    "%%R -i pc -i metadata -o harmonized\n",
    "library(harmony)\n",
    "library(magrittr)\n",
    "\n",
    "# run Harmony on the PCs\n",
    "harmonized <- HarmonyMatrix(pc, metadata, c('donor','sex','technology'), do_pca=FALSE)\n",
    "harmonized <- data.frame(harmonized)"
   ]
  },
  {
   "cell_type": "markdown",
   "metadata": {},
   "source": [
    "### Plot cluster based on corrected components"
   ]
  },
  {
   "cell_type": "code",
   "execution_count": null,
   "metadata": {},
   "outputs": [],
   "source": [
    "adata_norm.obsm['X_pca'] = harmonized.values\n",
    "sc.pp.neighbors(adata_norm, n_neighbors=30, method='umap', metric='cosine', random_state=0, n_pcs=50)\n",
    "sc.tl.leiden(adata_norm, resolution=1.5, random_state=0)\n",
    "sc.tl.umap(adata_norm, min_dist=0.3, random_state=0)\n",
    "\n",
    "sc.settings.set_figure_params(dpi=100)\n",
    "sc.pl.umap(adata_norm, color=['leiden'], size=9, legend_loc='on data')\n",
    "sc.pl.umap(adata_norm, color=['experiment'], size=1, alpha=.5)\n",
    "\n",
    "# plot quality metrics\n",
    "sc.pl.umap(adata_norm, color=['log_usable_counts'], size=9, color_map='Blues')\n",
    "sc.pl.umap(adata_norm, color=['frac_reads_in_peaks','frac_reads_in_promoters','frac_promoters_used'], cmap='Reds', size=9, legend_loc='on data', title=['Frac. reads in peaks', 'Frac. reads in promoters', 'Frac. promoters used'])\n",
    "\n",
    "# 5kb windows overlapping marker promoters    \n",
    "sc.pl.umap(adata_norm, color=['INS-IGF2','GCG','SST'], size=9, color_map='Blues', frameon=True, use_raw=True)\n",
    "sc.pl.umap(adata_norm, color=['PPY','REG1A','CFTR'], size=9, color_map='Blues', frameon=True, use_raw=True)\n",
    "sc.pl.umap(adata_norm, color=['PDGFRB','CLDN5','C1QB'], size=9, color_map='Blues', frameon=True, use_raw=True)\n",
    "sc.pl.umap(adata_norm, color=['CD3D','CD4','FOXP3'], size=9, color_map='Blues', frameon=True, use_raw=True)\n",
    "sc.pl.umap(adata_norm, color=['CD8B','IFNG','NCR1'], size=9, color_map='Blues', frameon=True, use_raw=True)\n",
    "sc.pl.umap(adata_norm, color=['MS4A1','TCL1A','FOXP3'], size=9, color_map='Blues', frameon=True, use_raw=True)\n",
    "sc.pl.umap(adata_norm, color=['GATA1','PTCRA','IL1B'], size=9, color_map='Blues', frameon=True, use_raw=True)"
   ]
  },
  {
   "cell_type": "code",
   "execution_count": null,
   "metadata": {
    "scrolled": false
   },
   "outputs": [],
   "source": [
    "# More 5kb windows overlapping marker promoters    \n",
    "sc.pl.umap(adata_norm, color=['INS-IGF2','IAPP','SIX2'], size=9, color_map='Blues', frameon=True, use_raw=True)\n",
    "sc.pl.umap(adata_norm, color=['GCG','FEV','GATA6'], size=9, color_map='Blues', frameon=True, use_raw=True)\n",
    "sc.pl.umap(adata_norm, color=['SST','HHEX','SALL1'], size=9, color_map='Blues', frameon=True, use_raw=True)\n",
    "sc.pl.umap(adata_norm, color=['PPY','SUCNR1','CDH20'], size=9, color_map='Blues', frameon=True, use_raw=True)\n",
    "sc.pl.umap(adata_norm, color=['CFTR','6:51940000-51945000','4:143470000-143475000'], size=9, color_map='Blues', frameon=True, use_raw=True)\n",
    "sc.pl.umap(adata_norm, color=['REG1A','PTF1A','PRSS1'], size=9, color_map='Blues', frameon=True, use_raw=True)\n",
    "sc.pl.umap(adata_norm, color=['TCEA2','CLEC14A','ROBO4'], size=9, color_map='Blues', frameon=True, use_raw=True)\n",
    "sc.pl.umap(adata_norm, color=['C1QA','C1QB','C1QC'], size=9, color_map='Blues', frameon=True, use_raw=True)\n",
    "sc.pl.umap(adata_norm, color=['CD69','BCL11B','STK17B'], size=9, color_map='Blues', frameon=True, use_raw=True)\n",
    "sc.pl.umap(adata_norm, color=['PDGFRB','SPARC','COL6A3'], size=9, color_map='Blues', frameon=True, use_raw=True)\n",
    "sc.pl.umap(adata_norm, color=['CD14','IL1B','MAFB'], size=9, color_map='Blues', frameon=True, use_raw=True) # Monocyte\n",
    "sc.pl.umap(adata_norm, color=['CD4','CD3D','IL2RA'], size=9, color_map='Blues', frameon=True, use_raw=True, vmax=2) # CD4 T-cell\n",
    "sc.pl.umap(adata_norm, color=['CD8A','NFIC','FASLG'], size=9, color_map='Blues', frameon=True, use_raw=True, vmax=2) # CD8 T-cell\n",
    "sc.pl.umap(adata_norm, color=['CD19','MS4A1','CD79A'], size=9, color_map='Blues', frameon=True, use_raw=True, vmax=2) #B-cell \n",
    "sc.pl.umap(adata_norm, color=['NCAM1','PRF1','SH2D1B'], size=9, color_map='Blues', frameon=True, use_raw=True, vmax=2) # NK cell\n",
    "sc.pl.umap(adata_norm, color=['ITGA2B','PTGER3','CD9'], size=9, color_map='Blues', frameon=True, use_raw=True, vmax=2) # Megakaryocyte\n",
    "sc.pl.umap(adata_norm, color=['PTCRA','LAMP5','RGS7'], size=9, color_map='Blues', frameon=True, use_raw=True, vmax=2) # pDC, FLT3 \n",
    "sc.pl.umap(adata_norm, color=['CXCR3','B3GNT6','SDPR'], size=9, color_map='Blues', frameon=True, use_raw=True, vmax=2) # monocyte-derived DC, LAMP2\n"
   ]
  },
  {
   "cell_type": "markdown",
   "metadata": {},
   "source": [
    "### Subclustering at high resolution to identify potential doublet subclusters"
   ]
  },
  {
   "cell_type": "code",
   "execution_count": null,
   "metadata": {},
   "outputs": [],
   "source": [
    "subset_cluster = ['0']\n",
    "sc.tl.louvain(adata_norm, restrict_to=('leiden',subset_cluster), resolution=3, random_state=0, key_added='subset')\n",
    "sc.pl.umap(adata_norm, color=['subset'], size=9)\n",
    "\n",
    "fig, ax1 = plt.subplots(1,1,figsize=(5,5))\n",
    "subset = adata_norm.obs.join(pd.DataFrame(adata_norm.obsm['X_umap'], index=adata_norm.obs.index, columns=['UMAP1','UMAP2']), how='inner')\n",
    "subset = subset.loc[subset['leiden'].isin(subset_cluster)]\n",
    "for s in sorted(set(subset['subset'])):\n",
    "    ax1.scatter(subset.loc[subset['subset']==s, 'UMAP1'], subset.loc[subset['subset']==s, 'UMAP2'], alpha=1, s=4, label=s)\n",
    "ax1.legend(markerscale=3)\n",
    "plt.show()\n",
    "\n",
    "# plot qc metrics including subclusters\n",
    "for qc_metric in ['log10_usable_counts', 'frac_reads_in_peaks', 'frac_promoters_used']:\n",
    "    fig, ax1 = plt.subplots(1,1,figsize=(7,5))\n",
    "    sns.boxplot(x='subset', y=qc_metric, data=adata_norm.obs, ax=ax1)\n",
    "    ax1.axhline(adata_norm.obs[qc_metric].median(), color='black', ls='dotted')\n",
    "    ax1.set_xticklabels(ax1.get_xticklabels(), rotation=90)\n",
    "    plt.show()\n",
    "\n",
    "# check marker promoters for potential doublet subclusters\n",
    "sc.pl.dotplot(adata_norm, ['INS-IGF2','GCG','SST','PPY','REG1A','CFTR','PDGFRB','CLDN5','C1QB',\n",
    "                           'CD3D','CD4','FOXP3','CD8B','IFNG','NCR1','MS4A1','TCL1A','FOXP3','GATA1','PTCRA','IL1B'],\n",
    "              standard_scale='var', groupby='subset', dendrogram=False, use_raw=True)\n",
    "    \n",
    "adata_norm.obs.loc[adata_norm.obs['subset'].isin(['0,28'])].to_csv(os.path.join(wd, '{}.acinar.doublets'.format(sample_name)), header=False, columns=[])"
   ]
  }
 ],
 "metadata": {
  "kernelspec": {
   "display_name": "Python 3",
   "language": "python",
   "name": "python3"
  },
  "language_info": {
   "codemirror_mode": {
    "name": "ipython",
    "version": 3
   },
   "file_extension": ".py",
   "mimetype": "text/x-python",
   "name": "python",
   "nbconvert_exporter": "python",
   "pygments_lexer": "ipython3",
   "version": "3.7.6"
  }
 },
 "nbformat": 4,
 "nbformat_minor": 2
}
